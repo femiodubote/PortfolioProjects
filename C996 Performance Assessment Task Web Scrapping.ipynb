{
 "cells": [
  {
   "cell_type": "markdown",
   "metadata": {},
   "source": [
    "from urllib.request import urlopen, urljoin\n",
    "import re\n",
    "import csv\n",
    "import requests\n",
    "from bs4 import BeautifulSoup, SoupStrainer\n",
    "from simplified_scrapy.simplified_doc import SimplifiedDoc"
   ]
  },
  {
   "cell_type": "markdown",
   "metadata": {},
   "source": [
    "def download_page(url):\n",
    "    return urlopen(url).read().decode('utf-8')\n",
    "def extract_links(page):\n",
    "    link_regex = re.compile('<a[^>]+href=[\"\\'](.*?)[\"\\']', re.IGNORECASE)\n",
    "    return link_regex.findall(page)\n",
    "\n",
    "if __name__=='__main__':\n",
    "    url = 'https://www.census.gov/programs-surveys/popest.html'\n",
    "    raw_data = download_page(url)\n",
    "    links = extract_links(raw_data)\n",
    "    \n",
    "    for link in links:\n",
    "        print(link)   "
   ]
  },
  {
   "cell_type": "markdown",
   "metadata": {},
   "source": [
    "soup = BeautifulSoup(raw_data, 'html.parser')\n",
    "\n",
    "type(soup)"
   ]
  },
  {
   "cell_type": "markdown",
   "metadata": {},
   "source": [
    "r = requests.get(url)\n",
    "\n",
    "\n",
    "raw_html = r.text\n",
    "\n",
    "print(r.text)"
   ]
  },
  {
   "cell_type": "markdown",
   "metadata": {},
   "source": [
    "links = soup.find_all('a', href=True)\n",
    "\n",
    "print(links)"
   ]
  },
  {
   "cell_type": "markdown",
   "metadata": {},
   "source": [
    "def download_page(url):\n",
    "    return urlopen(url).read().decode('utf-8')\n",
    "def extract_links(page):\n",
    "    link_regex = re.compile('<a[^>]+href=[\"\\'](.*?)[\"\\']', re.IGNORECASE)\n",
    "    return link_regex.findall(page)\n",
    "\n",
    "if __name__=='__main__':\n",
    "    url = 'https://www.census.gov/programs-surveys/popest.html'\n",
    "    raw_data = download_page(url)\n",
    "    links = extract_links(raw_data)\n",
    "    \n",
    "    for link in links:\n",
    "        print(urljoin(url, link))"
   ]
  },
  {
   "cell_type": "code",
   "execution_count": 7,
   "metadata": {},
   "outputs": [],
   "source": [
    "doc  = SimplifiedDoc(raw_data)\n",
    "lstA = doc.listA(url=url) # It will help you turn relative links into absolute links, unique links\n",
    "links = [a.url for a in lstA]\n",
    "\n",
    "with open(\"C996 Performance Assessment.csv\", \"w\") as csv_file:\n",
    "\n",
    "  writer = csv.writer(csv_file, delimiter=\"\\n\", lineterminator='\\r')\n",
    "\n",
    "  writer.writerow(links)"
   ]
  },
  {
   "cell_type": "code",
   "execution_count": 8,
   "metadata": {},
   "outputs": [
    {
     "data": {
      "text/plain": [
       "'C:\\\\Users\\\\olufe\\\\Desktop\\\\MY Western Governors University 022020\\\\C996 Programming in Python\\\\C996 Assessment'"
      ]
     },
     "execution_count": 8,
     "metadata": {},
     "output_type": "execute_result"
    }
   ],
   "source": [
    "%pwd"
   ]
  }
 ],
 "metadata": {
  "kernelspec": {
   "display_name": "Python 3",
   "language": "python",
   "name": "python3"
  },
  "language_info": {
   "codemirror_mode": {
    "name": "ipython",
    "version": 3
   },
   "file_extension": ".py",
   "mimetype": "text/x-python",
   "name": "python",
   "nbconvert_exporter": "python",
   "pygments_lexer": "ipython3",
   "version": "3.7.4"
  }
 },
 "nbformat": 4,
 "nbformat_minor": 2
}
